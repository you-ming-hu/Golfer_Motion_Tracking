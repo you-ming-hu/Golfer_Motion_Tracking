{
 "cells": [
  {
   "cell_type": "code",
   "execution_count": 1,
   "metadata": {},
   "outputs": [],
   "source": [
    "import matplotlib.pyplot as plt\n",
    "import numpy as np\n",
    "import pathlib\n",
    "import tqdm\n",
    "import itertools\n",
    "import xml.etree.ElementTree as ET\n",
    "import cv2\n",
    "\n",
    "def create_data(image_paths,winSize,stride,bbox_path='',threshold=0.9):\n",
    "    threshold = 0.8\n",
    "    bbox_path = pathlib.Path(bbox_path)\n",
    "    x = []\n",
    "    y = []\n",
    "\n",
    "    for p in tqdm.tqdm(image_paths):\n",
    "        image = plt.imread(p.as_posix())\n",
    "        \n",
    "        if image.dtype != np.uint8:\n",
    "            image = cv2.normalize(image, None, 0, 255, cv2.NORM_MINMAX, cv2.CV_8U)\n",
    "        \n",
    "        h,w = image.shape[:2]\n",
    "        W = list(range(0,w-winSize[0],stride)) + [w-winSize[0]]\n",
    "        H = list(range(0,h-winSize[1],stride)) + [h-winSize[1]]\n",
    "        \n",
    "        bbox_label = bbox_path.joinpath(p.with_suffix('.xml').name)\n",
    "        if bbox_label.exists():\n",
    "            xml_tree = ET.parse(bbox_label.as_posix())\n",
    "            gt_xmin, gt_ymin, gt_xmax, gt_ymax = list(int(x.text) for x in xml_tree.find('object').find('bndbox'))\n",
    "            gt_area = (gt_xmax-gt_xmin)*(gt_ymax-gt_ymin)\n",
    "        else:\n",
    "            xml_tree = None\n",
    "            gt_xmin, gt_ymin, gt_xmax, gt_ymax = None,None,None,None\n",
    "            gt_area = None\n",
    "            \n",
    "        \n",
    "        for tl in itertools.product(H,W):\n",
    "            t,l = tl\n",
    "            \n",
    "            cp_xmin, cp_xmax = l,l+winSize[1]\n",
    "            cp_ymin, cp_ymax = t,t+winSize[0]\n",
    "            \n",
    "            if bbox_label.exists():\n",
    "                inter_xmin = max(cp_xmin,gt_xmin)\n",
    "                inter_ymin = max(cp_ymin,gt_ymin)\n",
    "                inter_xmax = min(cp_xmax,gt_xmax)\n",
    "                inter_ymax = min(cp_ymax,gt_ymax)\n",
    "                inter_area = max(0,inter_xmax-inter_xmin+1) * max(0,inter_ymax-inter_ymin+1)\n",
    "                gt_contained_ratio = inter_area/gt_area\n",
    "            else:\n",
    "                gt_contained_ratio = 0\n",
    "                \n",
    "            cropped_image = image[cp_ymin:cp_ymax,cp_xmin:cp_xmax,:]\n",
    "            \n",
    "            if gt_contained_ratio>=threshold:\n",
    "                x.append(cropped_image)\n",
    "                y.append(1)\n",
    "            elif gt_contained_ratio==0:\n",
    "                x.append(cropped_image)\n",
    "                y.append(0)\n",
    "            \n",
    "    x = np.stack(x,axis=0)\n",
    "    y = np.stack(y,axis=0)\n",
    "    return x,y\n",
    "\n",
    "def preprocess(hog,images):\n",
    "    output= []\n",
    "    for img in images:\n",
    "        hog_img = hog.compute(img, winStride=(1,1), padding=(0,0)).reshape((-1,))\n",
    "        output.append(hog_img)\n",
    "    return np.stack(output)"
   ]
  },
  {
   "cell_type": "code",
   "execution_count": 4,
   "metadata": {},
   "outputs": [
    {
     "name": "stderr",
     "output_type": "stream",
     "text": [
      "100%|██████████| 313/313 [00:01<00:00, 269.14it/s]\n",
      "100%|██████████| 30/30 [00:00<00:00, 254.85it/s]\n",
      "100%|██████████| 184/184 [00:05<00:00, 35.79it/s]\n"
     ]
    }
   ],
   "source": [
    "from sklearn.model_selection import train_test_split\n",
    "from sklearn.svm import SVC\n",
    "\n",
    "winSize = (48,48)\n",
    "hog_setting = dict(_winSize=winSize,_blockSize=(16,16),_blockStride=(8,8),_cellSize=(8,8),_nbins=9)\n",
    "\n",
    "\n",
    "image_paths = list(pathlib.Path(r'D:\\Datasets\\Golf\\IdeasLab\\training\\golfheadcropped').glob('*.jpg'))\n",
    "bbox_path = r'D:\\Datasets\\Golf\\IdeasLab\\training\\golfheadcropped_bbox'\n",
    "\n",
    "train_paths, valid_paths = train_test_split(image_paths,test_size=30,random_state=123)\n",
    "x,y = create_data(train_paths,winSize,stride=8,bbox_path=bbox_path,threshold=0.9)\n",
    "val_x,val_y = create_data(valid_paths,winSize,stride=8,bbox_path=bbox_path,threshold=0.9)\n",
    "\n",
    "additional_paths = list(pathlib.Path(r'D:\\Datasets\\Pedestrian\\PennFudanPed\\PNGImages').glob('*.jpg'))\n",
    "additional_paths = additional_paths + list(pathlib.Path(r'D:\\Datasets\\Golf\\custom').glob('*.jpg'))\n",
    "add_x, add_y = create_data(additional_paths,winSize,stride=16)\n",
    "\n",
    "x = np.concatenate([x,add_x],axis=0)\n",
    "y = np.concatenate([y,add_y],axis=0)\n",
    "\n",
    "hog = cv2.HOGDescriptor(**hog_setting)\n",
    "hog_x = preprocess(hog,x)\n",
    "hog_val_x = preprocess(hog,val_x)"
   ]
  },
  {
   "cell_type": "code",
   "execution_count": 6,
   "metadata": {},
   "outputs": [
    {
     "data": {
      "text/plain": [
       "SVC()"
      ]
     },
     "execution_count": 6,
     "metadata": {},
     "output_type": "execute_result"
    }
   ],
   "source": [
    "detector = SVC(kernel='rbf')\n",
    "detector.fit(hog_x,y)"
   ]
  },
  {
   "cell_type": "code",
   "execution_count": 7,
   "metadata": {},
   "outputs": [
    {
     "data": {
      "text/plain": [
       "0.2611111111111111"
      ]
     },
     "execution_count": 7,
     "metadata": {},
     "output_type": "execute_result"
    }
   ],
   "source": [
    "pred = detector.predict(hog_val_x)\n",
    "\n",
    "((val_y==1)&(pred==1)).sum()/(val_y==1).sum()"
   ]
  },
  {
   "cell_type": "code",
   "execution_count": 8,
   "metadata": {},
   "outputs": [],
   "source": [
    "import pickle\n",
    "\n",
    "file = pathlib.Path('saved_models/svm_rbf_model_4.ml')\n",
    "with file.open('wb') as f:\n",
    "    pickle.dump(dict(detector=detector,hog_setting=hog_setting),f)"
   ]
  }
 ],
 "metadata": {
  "interpreter": {
   "hash": "a077222d77dfe082b8f1dd562ad70e458ac2ab76993a0b248ab0476e32e9e8dd"
  },
  "kernelspec": {
   "display_name": "Python 3.8.3 ('base')",
   "language": "python",
   "name": "python3"
  },
  "language_info": {
   "codemirror_mode": {
    "name": "ipython",
    "version": 3
   },
   "file_extension": ".py",
   "mimetype": "text/x-python",
   "name": "python",
   "nbconvert_exporter": "python",
   "pygments_lexer": "ipython3",
   "version": "3.8.3"
  },
  "orig_nbformat": 4
 },
 "nbformat": 4,
 "nbformat_minor": 2
}
